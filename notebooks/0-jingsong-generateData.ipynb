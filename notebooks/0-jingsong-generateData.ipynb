{
 "cells": [
  {
   "cell_type": "code",
   "execution_count": null,
   "id": "9f08fa48",
   "metadata": {},
   "outputs": [],
   "source": [
    "import pandas as pd\n",
    "import names\n",
    "import random\n",
    "import datetime\n",
    "import randomname\n",
    "import os\n",
    "\n",
    "event_count = 50\n",
    "participant_count = 100\n",
    "event_type = [\"fun\", \"educational\", \"sporty\", \"musical\"]\n",
    "race_list = [\"Chinese\", \"Indian\", \"Malay\", \"Others\"]\n",
    "age_min = 18\n",
    "age_max = 99\n",
    "event_size_min = 2\n",
    "event_size_max = 6\n",
    "event_start_date = datetime.date(2015, 1, 1)\n",
    "\n",
    "path_data_processed = os.path.join(os.path.dirname(os.getcwd()), \"data\", \"processed\")"
   ]
  },
  {
   "cell_type": "code",
   "execution_count": null,
   "id": "b8958c3c",
   "metadata": {},
   "outputs": [],
   "source": [
    "participant_id_list = [idx for idx in range(participant_count)]\n",
    "participant_name_list = [names.get_full_name() for idx in range(participant_count)]\n",
    "participant_age_list = [random.randrange(age_min, age_max+1) for idx in range(participant_count)]\n",
    "participant_race_list = [random.sample(race_list, 1)[0] for idx in range(participant_count)]\n",
    "\n",
    "df_participants = pd.DataFrame.from_dict({\"ParticipantId\": participant_id_list, \n",
    "                                         \"ParticipantName\": participant_name_list, \n",
    "                                         \"ParticipantAge\": participant_age_list, \n",
    "                                         \"ParticipantRace\": participant_race_list})\n",
    "\n",
    "display(df_participants.head())\n",
    "# df_participants.to_csv(os.path.join(path_data_processed, \"participants.csv\"), index=False)"
   ]
  },
  {
   "cell_type": "code",
   "execution_count": null,
   "id": "9d0e793a",
   "metadata": {},
   "outputs": [],
   "source": [
    "event_id_list = [idx for idx in range(event_count)]\n",
    "event_type_list = [random.sample(event_type, 1)[0] for idx in range(event_count)]\n",
    "event_date_list = [event_start_date + datetime.timedelta(days=random.randrange(0, 1500)) for idx in range(event_count)]\n",
    "event_name_list = [randomname.get_name() for idx in range(event_count)]\n",
    "\n",
    "df_events = pd.DataFrame.from_dict({\"EventId\": event_id_list, \n",
    "                                  \"EventType\": event_type_list,\n",
    "                                   \"EventDate\": event_date_list, \n",
    "                                  \"EventName\": event_name_list})\n",
    "\n",
    "display(df_events.head())\n",
    "# df_events.to_csv(os.path.join(path_data_processed, \"events.csv\"), index=False)"
   ]
  },
  {
   "cell_type": "code",
   "execution_count": null,
   "id": "61683c05",
   "metadata": {},
   "outputs": [],
   "source": [
    "event_id_list = []\n",
    "event_participant_list = []\n",
    "for event_idx in range(event_count):\n",
    "    event_size = random.randrange(event_size_min, event_size_max+1)\n",
    "    for event_participant_idx in range(event_size):\n",
    "        event_id_list.append(event_idx)\n",
    "    pariticipantids_for_event = random.sample(participant_id_list, event_size)\n",
    "    event_participant_list.extend(pariticipantids_for_event)\n",
    "\n",
    "df_event_attendance = pd.DataFrame.from_dict({\"EventId\": event_id_list, \n",
    "                                             \"EventParticipantId\": event_participant_list})\n",
    "display(df_event_attendance.head())\n",
    "# df_event_attendance.to_csv(os.path.join(path_data_processed, \"event_attendance.csv\"), index=False)"
   ]
  }
 ],
 "metadata": {
  "kernelspec": {
   "display_name": "Python 3",
   "language": "python",
   "name": "python3"
  },
  "language_info": {
   "codemirror_mode": {
    "name": "ipython",
    "version": 3
   },
   "file_extension": ".py",
   "mimetype": "text/x-python",
   "name": "python",
   "nbconvert_exporter": "python",
   "pygments_lexer": "ipython3",
   "version": "3.8.5"
  }
 },
 "nbformat": 4,
 "nbformat_minor": 5
}
