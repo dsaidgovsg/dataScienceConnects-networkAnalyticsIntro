{
 "cells": [
  {
   "cell_type": "code",
   "execution_count": null,
   "id": "58b240f8",
   "metadata": {},
   "outputs": [],
   "source": [
    "import networkx as nx\n",
    "import matplotlib.pyplot as plt\n",
    "import scipy\n",
    "import os\n",
    "import pandas as pd\n",
    "from prettyprinter import pprint\n",
    "from itertools import combinations\n",
    "\n",
    "path_data_processed = os.path.join(os.path.dirname(os.getcwd()), \"data\", \"processed\")\n",
    "\n",
    "df_participants = pd.read_csv(os.path.join(path_data_processed, \"participants.csv\"))\n",
    "df_events = pd.read_csv(os.path.join(path_data_processed, \"events.csv\"))\n",
    "df_event_attendance = pd.read_csv(os.path.join(path_data_processed, \"event_attendance.csv\"))"
   ]
  },
  {
   "cell_type": "code",
   "execution_count": null,
   "id": "482e105e",
   "metadata": {},
   "outputs": [],
   "source": [
    "# initialise empty graph\n",
    "G = nx.MultiGraph()"
   ]
  },
  {
   "cell_type": "code",
   "execution_count": null,
   "id": "8b898d4c",
   "metadata": {},
   "outputs": [],
   "source": [
    "# add nodes\n",
    "for row in df_participants.iterrows():\n",
    "    row_dict = row[1].to_dict()\n",
    "    node_id = row_dict[\"ParticipantId\"]\n",
    "    del row_dict[\"ParticipantId\"]\n",
    "    node_attributes = row_dict\n",
    "    G.add_node(node_id, **node_attributes)\n",
    "\n",
    "print(\"First node is:\\n\")\n",
    "pprint(G.nodes[0])\n",
    "print(\"Last node is:\\n\")\n",
    "pprint(G.nodes[len(G.nodes)-1])"
   ]
  },
  {
   "cell_type": "code",
   "execution_count": null,
   "id": "ff9cb7b7",
   "metadata": {},
   "outputs": [],
   "source": [
    "# add edges\n",
    "\n",
    "# generate combinations\n",
    "combinations_output = df_event_attendance.groupby(\"EventId\")[\"EventParticipantId\"].apply(combinations, r=2)\n",
    "\n",
    "display(df_event_attendance.head())\n",
    "\n",
    "for combination in combinations_output.tolist()[0:1]:\n",
    "    for edge in combination:\n",
    "        print(edge)\n",
    "        \n",
    "for event_idx, combination in enumerate(combinations_output):\n",
    "    edge_attributes = df_events.loc[df_events[\"EventId\"]==event_idx].to_dict(\"records\")[0]\n",
    "    del edge_attributes[\"EventId\"]\n",
    "    for edge in combination:\n",
    "        G.add_edge(edge[0], edge[1], **edge_attributes)"
   ]
  },
  {
   "cell_type": "code",
   "execution_count": null,
   "id": "0bd745ad",
   "metadata": {},
   "outputs": [],
   "source": [
    "def generate_subgraph_viz(G, primary_node_id_list, secondary_node_id_list=[]):\n",
    "    \n",
    "    subgraph_nodes = []\n",
    "    \n",
    "    for node_id in primary_node_id_list+secondary_node_id_list:\n",
    "        subgraph_nodes.extend([node_id])\n",
    "        neighbours = G.neighbors(node_id)\n",
    "        for neighbour_id in neighbours:\n",
    "            subgraph_nodes.extend([neighbour_id])\n",
    "            \n",
    "    subgraph = G.subgraph(subgraph_nodes)\n",
    "    pos=nx.spring_layout(subgraph)\n",
    "    \n",
    "    colour_map = []\n",
    "    for node in subgraph:\n",
    "        if node in primary_node_id_list:\n",
    "            colour_map.extend([\"red\"])\n",
    "        elif node in secondary_node_id_list:\n",
    "            colour_map.extend([\"green\"])\n",
    "        else:\n",
    "            colour_map.extend([\"blue\"])\n",
    "\n",
    "    nx.draw(subgraph, pos=pos, node_color=colour_map);\n",
    "\n",
    "    node_labels = nx.get_node_attributes(subgraph,\"ParticipantName\")\n",
    "    nx.draw_networkx_labels(subgraph, pos, labels = node_labels);\n",
    "\n",
    "#     edge_labels_original = nx.get_edge_attributes(subgraph,\"EventDate\")\n",
    "#     edge_labels = dict(((key[0], key[1]), value) for (key, value) in edge_labels_original.items())\n",
    "\n",
    "#     nx.draw_networkx_edge_labels(G, pos, edge_labels=edge_labels);\n",
    "#     nx.draw_networkx_edge_labels(subgraph, pos, edge_labels=[1,2,3])"
   ]
  },
  {
   "cell_type": "code",
   "execution_count": null,
   "id": "19aff1ad",
   "metadata": {},
   "outputs": [],
   "source": [
    "# who could we invite to the next event?\n",
    "attendee_list = [1,20,50]\n",
    "attendee_max_size = 6\n",
    "generate_subgraph_viz(G, attendee_list)\n",
    "\n",
    "# generate candidate nodes, who are not known to attendees\n",
    "attendee_neighbours = []\n",
    "for attendee in attendee_list:\n",
    "    attendee_neighbours.extend(G.neighbors(attendee))\n",
    "\n",
    "candidate_nodes = []\n",
    "for node in G:\n",
    "    if node not in attendee_list+attendee_neighbours:\n",
    "        candidate_nodes.append(node)\n",
    "\n",
    "# pair candidate nodes\n",
    "pairs_to_calculate_jaccard = [(attendee, candidate) for attendee in attendee_list for candidate in candidate_nodes]\n",
    "\n",
    "# to_undirected since nx's jaccard algo doesn't calculate across multigraph\n",
    "G_normalGraph = nx.Graph(G)\n",
    "jaccard_coefficient_result = nx.jaccard_coefficient(G_normalGraph, pairs_to_calculate_jaccard)"
   ]
  },
  {
   "cell_type": "code",
   "execution_count": null,
   "id": "2474ca8b",
   "metadata": {},
   "outputs": [],
   "source": [
    "nodeA_list = []\n",
    "nodeB_list = []\n",
    "jaccard_result_list = []\n",
    "for result in jaccard_coefficient_result:\n",
    "    nodeA_list.append(result[0])\n",
    "    nodeB_list.append(result[1])\n",
    "    jaccard_result_list.append(result[2])\n",
    "    \n",
    "df_jaccard_result = pd.DataFrame.from_dict({\"NodeA\":nodeA_list, \n",
    "                                           \"NodeB\": nodeB_list, \n",
    "                                           \"JaccardResult\": jaccard_result_list})"
   ]
  },
  {
   "cell_type": "code",
   "execution_count": null,
   "id": "df463226",
   "metadata": {},
   "outputs": [],
   "source": [
    "display(df_jaccard_result.sort_values(by=\"JaccardResult\", ascending=False)[0:3])\n",
    "display(df_jaccard_result.sort_values(by=\"JaccardResult\", ascending=False)[-4:-1])"
   ]
  },
  {
   "cell_type": "code",
   "execution_count": null,
   "id": "f7114e1a",
   "metadata": {},
   "outputs": [],
   "source": [
    "generate_subgraph_viz(G, attendee_list, [96, 78, 0])"
   ]
  },
  {
   "cell_type": "code",
   "execution_count": null,
   "id": "0916f076",
   "metadata": {},
   "outputs": [],
   "source": [
    "generate_subgraph_viz(G, attendee_list, [40, 41, 42])"
   ]
  }
 ],
 "metadata": {
  "kernelspec": {
   "display_name": "Python 3",
   "language": "python",
   "name": "python3"
  },
  "language_info": {
   "codemirror_mode": {
    "name": "ipython",
    "version": 3
   },
   "file_extension": ".py",
   "mimetype": "text/x-python",
   "name": "python",
   "nbconvert_exporter": "python",
   "pygments_lexer": "ipython3",
   "version": "3.8.5"
  }
 },
 "nbformat": 4,
 "nbformat_minor": 5
}
